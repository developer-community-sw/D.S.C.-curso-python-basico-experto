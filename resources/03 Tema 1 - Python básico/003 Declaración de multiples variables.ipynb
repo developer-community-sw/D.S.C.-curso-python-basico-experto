{
 "cells": [
  {
   "attachments": {},
   "cell_type": "markdown",
   "metadata": {},
   "source": [
    "### Declarando múltiples variables en una sola línea\n",
    "\n",
    "Se hace del siguiente modo:"
   ]
  }
 ],
 "metadata": {
  "language_info": {
   "name": "python"
  },
  "orig_nbformat": 4
 },
 "nbformat": 4,
 "nbformat_minor": 2
}
